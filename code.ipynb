{
 "cells": [
  {
   "cell_type": "code",
   "execution_count": 6,
   "metadata": {},
   "outputs": [
    {
     "data": {
      "text/plain": [
       "<matplotlib.image.AxesImage at 0x1cc590cd610>"
      ]
     },
     "execution_count": 6,
     "metadata": {},
     "output_type": "execute_result"
    },
    {
     "data": {
      "image/png": "[encoded data removed]",
      "text/plain": [
       "<Figure size 432x288 with 1 Axes>"
      ]
     },
     "metadata": {
      "needs_background": "light"
     },
     "output_type": "display_data"
    }
   ],
   "source": [
    "%matplotlib inline\n",
    "\n",
    "import numpy as np\n",
    "\n",
    "from matplotlib import pyplot as plt\n",
    "\n",
    "img2=np.array([0,0,0,0,0,0,0,0,0,0,0,0,0,0,0,0,0,0,1,1,1,0,0,0,0,0,0,0,0,0,0,0,0,1,1,0,0,0,0,0,0,0,0,0,0,1,0,0,1,0,0,0,0,0,0,0,0,0,0,0,1,1,0,0,1,0,0,0,0,0,0,0,0,0,0,0,1,1,0,0,1,0,0,0,0,0,0,0,0,0,0,0,1,1,1,0,1,0,0,0,0,0,0,0,0,0,0,1,1,0,1,0,1,0,0,0,0,0,0,0,0,0,0,1,0,0,1,0,1,0,0,0,0,0,0,0,0,0,1,0,0,0,1,0,1,1,1,1,1,1,1,1,1,1,1,0,0,0,1,1,0,0,0,0,0,0,0,0,0,0,0,0,0,0,0,1,0,0,0,0,0,0,0,0,0,0,0,0,0,0,0,1,0,0,0,0,0,0,0,0,0,0,0,0,0,0,0,1,0,0,0,0,0,0,0,0,0,0,0,0,0,0,0,1,0,0,0,0,0,0,0,0,0,0,0,0,0,0,0,1,0,0,0,0,0,0,0,0,0,0,0,0,0,0,0,0],dtype=np.uint8)\n",
    "\n",
    "img4=np.array([0,0,0,0,0,0,0,0,0,0,0,0,0,0,0,0,0,0,0,0,0,0,0,0,0,0,0,0,0,0,0,0,0,0,0,0,0,0,0,1,0,0,0,0,0,0,0,0,1,1,1,1,1,1,1,1,0,0,0,0,0,0,0,0,0,0,0,0,0,0,0,1,0,0,0,0,0,0,0,1,0,0,0,0,0,0,0,1,0,0,0,0,0,1,1,1,0,0,0,0,0,0,1,0,0,0,1,1,1,0,0,0,0,0,0,0,0,0,1,0,0,1,1,0,0,0,0,0,0,0,0,0,0,0,1,1,1,0,0,0,0,0,0,0,0,1,1,1,1,1,1,0,0,0,0,0,0,0,0,0,1,1,0,0,0,1,0,0,0,0,0,0,0,0,0,0,0,0,0,0,0,1,0,0,0,0,0,0,0,0,0,0,0,0,0,0,1,1,0,0,0,0,0,0,0,0,0,0,0,0,0,0,0,1,0,0,0,0,0,0,0,0,0,0,0,0,0,0,0,0,0,0,0,0,0,0,0,0,0,0,0,0,0,0,0,0,0,0,0,0,0,0,0,0,0,0],dtype=np.uint8)\n",
    "\n",
    "img = np.reshape(img4,(16,16),order='F')\n",
    "\n",
    "plt.imshow(img)"
   ]
  },
  {
   "cell_type": "code",
   "execution_count": 7,
   "metadata": {},
   "outputs": [],
   "source": [
    "trainInput=np.loadtxt(fname = \"trainX.txt\")\n",
    "trainOutput=np.loadtxt(fname = \"trainY.txt\")\n",
    "\n",
    "trainX2=np.empty((250,256))\n",
    "trainX4=np.empty((250,256))\n",
    "\n",
    "trainX2=trainInput[:250,:]\n",
    "trainX4=trainInput[250:,:]\n",
    "\n",
    "prob_2=len(trainX2)/len(trainOutput)\n",
    "prob_4=len(trainX4)/len(trainOutput)\n",
    "\n",
    "oneGiven2=np.sum(trainX2, axis=0)/len(trainX2)\n",
    "oneGiven4=np.sum(trainX4, axis=0)/len(trainX4)\n",
    "\n",
    "zeroGiven2=1-oneGiven2\n",
    "zeroGiven4=1-(oneGiven4)"
   ]
  },
  {
   "cell_type": "code",
   "execution_count": 8,
   "metadata": {},
   "outputs": [],
   "source": [
    "def model(testX,testY):\n",
    "    index=0\n",
    "    count2=0\n",
    "    count4=0\n",
    "    \n",
    "    for item in testX:\n",
    "        count=0\n",
    "        prob2=1\n",
    "        prob4=1\n",
    "        for j in item:\n",
    "            if j==1:\n",
    "                prob2=prob2*oneGiven2[count]\n",
    "                prob4=prob4*oneGiven4[count]\n",
    "            else:\n",
    "                prob2=prob2*zeroGiven2[count]\n",
    "                prob4=prob4*zeroGiven4[count]\n",
    "            \n",
    "            count=count+1\n",
    "        if((prob2)>=(prob4)):\n",
    "            if(testY[index]==2):\n",
    "                count2+=1\n",
    "        else:\n",
    "            if(testY[index]==4):\n",
    "                count4+=1\n",
    "        index+=1   \n",
    "    overAll_accuracy=(count2+count4)/(len(testX))*100\n",
    "    print(overAll_accuracy)"
   ]
  },
  {
   "cell_type": "code",
   "execution_count": 9,
   "metadata": {},
   "outputs": [
    {
     "name": "stdout",
     "output_type": "stream",
     "text": [
      "Testing Accuracies: \t100.0\n",
      "Training Accuracies:\t99.4\n"
     ]
    }
   ],
   "source": [
    "testX=np.loadtxt(fname = \"testX.txt\")\n",
    "testY=np.loadtxt(fname = \"testY.txt\")\n",
    "\n",
    "print(\"Testing Accuracies: \",end='\\t')\n",
    "model(testX,testY)\n",
    "\n",
    "trainInput=np.loadtxt(fname = \"trainX.txt\")\n",
    "trainOutput=np.loadtxt(fname = \"trainY.txt\")\n",
    "\n",
    "print(\"Training Accuracies:\",end='\\t')\n",
    "model(trainInput,trainOutput)"
   ]
  }
 ],
 "metadata": {
  "kernelspec": {
   "display_name": "Python 3",
   "language": "python",
   "name": "python3"
  },
  "language_info": {
   "codemirror_mode": {
    "name": "ipython",
    "version": 3
   },
   "file_extension": ".py",
   "mimetype": "text/x-python",
   "name": "python",
   "nbconvert_exporter": "python",
   "pygments_lexer": "ipython3",
   "version": "3.8.8"
  }
 },
 "nbformat": 4,
 "nbformat_minor": 4
}
